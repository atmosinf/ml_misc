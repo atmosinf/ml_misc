{
 "cells": [
  {
   "cell_type": "markdown",
   "id": "cbc3c0e9",
   "metadata": {},
   "source": [
    "### in this notebook we'll run inference and calculate mAP for multiple images"
   ]
  },
  {
   "cell_type": "code",
   "execution_count": 1,
   "id": "32d8617e",
   "metadata": {},
   "outputs": [],
   "source": [
    "import sys\n",
    "import json\n",
    "import os\n",
    "from urllib.request import ProxyBasicAuthHandler\n",
    "import cv2\n",
    "import matplotlib.pyplot as plt\n",
    "import tensorflow_hub as hub\n",
    "from PIL import Image\n",
    "import tensorflow as tf\n",
    "import numpy as np"
   ]
  },
  {
   "cell_type": "code",
   "execution_count": 2,
   "id": "e66ad694",
   "metadata": {},
   "outputs": [],
   "source": [
    "ANNOTATIONS = '../my_custom_dataset/annotations/coco_annotation.json'\n",
    "labels = ['person','bicycle','car','motorcycle','airplane','bus','train','truck','boat','traffic light','fire hydrant','street sign','stop sign','parking meter','bench','bird','cat','dog','horse','sheep','cow','elephant','bear','zebra','giraffe','hat','backpack','umbrella','shoe','eye glasses','handbag','tie','suitcase','frisbee','skis','snowboard','sports ball','kite','baseball bat','baseball glove','skateboard','surfboard','tennis racket','bottle','plate','wine glass','cup','fork','knife','spoon','bowl','banana','apple','sandwich','orange','broccoli','carrot','hot dog','pizza','donut','cake','chair','couch','potted plant','bed','mirror','dining table','window','desk','toilet','door','tv','laptop','mouse','remote','keyboard','cell phone','microwave','oven','toaster','sink','refrigerator','blender','book','clock','vase','scissors','teddy bear','hair drier','toothbrush','hair brush']\n",
    "\n",
    "with open(ANNOTATIONS, 'r') as f:\n",
    "    data = json.load(f)"
   ]
  },
  {
   "cell_type": "code",
   "execution_count": 56,
   "id": "a864c21e",
   "metadata": {},
   "outputs": [],
   "source": [
    "def get_prediction(model, img_root, img_name):\n",
    "    filepath = os.path.join(img_root, img_name)\n",
    "    image = Image.open(filepath)\n",
    "    imagetensor = tf.convert_to_tensor(image, dtype=tf.uint8, dtype_hint=None, name=None)\n",
    "    imagetensor_reshaped = tf.expand_dims(imagetensor, axis=0, name=None)\n",
    "    boxes, scores, classes, num_detections = model(imagetensor_reshaped)\n",
    "    return boxes, scores, classes, num_detections\n",
    "\n",
    "def get_gt(img_name):\n",
    "    img_id = int(img_name.replace('.jpg',''))\n",
    "    annotations = data['annotations']\n",
    "    gt = []\n",
    "    for annot in annotations:\n",
    "        if annot['image_id'] == img_id:\n",
    "            gt.append([annot['bbox'], annot['category_id']])\n",
    "    return gt\n",
    "\n",
    "def get_gtruths_preds_frmtd(model, img_root, img_name, img_index=1, conf_thresh=0.5, labelidxs=[0,21,23,24]):\n",
    "    '''\n",
    "    given an input image, get the gtruths, predictions and return the bboxes for both\n",
    "    returned bboxes are in the format xmin, ymin, xmax, ymax\n",
    "    '''\n",
    "    filepath = os.path.join(img_root, img_name)\n",
    "    img = cv2.imread(filepath)\n",
    "    img = cv2.cvtColor(img, cv2.COLOR_BGR2RGB)\n",
    "\n",
    "    # get ground truth bboxes\n",
    "    gt = get_gt(img_name)\n",
    "\n",
    "    # get predictions\n",
    "    boxes, scores, classes, num_detections = get_prediction(model, img_root, img_name)\n",
    "    \n",
    "    # convert the bboxes to the format xmin, ymin, xmax, ymax\n",
    "    preds = []\n",
    "    conf_thresh = 0.5\n",
    "    for box, cls, score in zip(boxes[0], classes[0], scores[0]):\n",
    "        if score > conf_thresh and int(cls.numpy())-1 in labelidxs:\n",
    "            ymin, xmin, ymax, xmax = box.numpy()\n",
    "            preds.append([img_index, int(cls.numpy()), score.numpy(), xmin, ymin, xmax, ymax])\n",
    "\n",
    "    gtruths = []\n",
    "    for gti in gt:\n",
    "        xmin, ymin, width, height = gti[0]\n",
    "        cls = gti[1]\n",
    "        if cls-1 in labelidxs:\n",
    "            gtruths.append([img_index, cls, 1, xmin, ymin, xmin+width, ymin+height])\n",
    "    \n",
    "    return gtruths, preds\n",
    "\n",
    "def get_iou(boxes_preds, boxes_labels, box_format=\"midpoint\"):\n",
    "    \"\"\"\n",
    "    Calculates intersection over union\n",
    "\n",
    "    Parameters:\n",
    "        boxes_preds (tensor): Predictions of Bounding Boxes (BATCH_SIZE, 4)\n",
    "        boxes_labels (tensor): Correct Labels of Boxes (BATCH_SIZE, 4)\n",
    "        box_format (str): midpoint/corners, if boxes (x,y,w,h) or (x1,y1,x2,y2)\n",
    "\n",
    "    Returns:\n",
    "        tensor: Intersection over union for all examples\n",
    "    \"\"\"\n",
    "\n",
    "    # Slicing idx:idx+1 in order to keep tensor dimensionality\n",
    "    # Doing ... in indexing if there would be additional dimensions\n",
    "    # Like for Yolo algorithm which would have (N, S, S, 4) in shape\n",
    "    if box_format == \"midpoint\":\n",
    "        box1_x1 = boxes_preds[..., 0:1] - boxes_preds[..., 2:3] / 2\n",
    "        box1_y1 = boxes_preds[..., 1:2] - boxes_preds[..., 3:4] / 2\n",
    "        box1_x2 = boxes_preds[..., 0:1] + boxes_preds[..., 2:3] / 2\n",
    "        box1_y2 = boxes_preds[..., 1:2] + boxes_preds[..., 3:4] / 2\n",
    "        box2_x1 = boxes_labels[..., 0:1] - boxes_labels[..., 2:3] / 2\n",
    "        box2_y1 = boxes_labels[..., 1:2] - boxes_labels[..., 3:4] / 2\n",
    "        box2_x2 = boxes_labels[..., 0:1] + boxes_labels[..., 2:3] / 2\n",
    "        box2_y2 = boxes_labels[..., 1:2] + boxes_labels[..., 3:4] / 2\n",
    "\n",
    "    elif box_format == \"corners\":\n",
    "        box1_x1 = boxes_preds[..., 0:1]\n",
    "        box1_y1 = boxes_preds[..., 1:2]\n",
    "        box1_x2 = boxes_preds[..., 2:3]\n",
    "        box1_y2 = boxes_preds[..., 3:4]\n",
    "        box2_x1 = boxes_labels[..., 0:1]\n",
    "        box2_y1 = boxes_labels[..., 1:2]\n",
    "        box2_x2 = boxes_labels[..., 2:3]\n",
    "        box2_y2 = boxes_labels[..., 3:4]\n",
    "\n",
    "    x1 = torch.max(box1_x1, box2_x1)\n",
    "    y1 = torch.max(box1_y1, box2_y1)\n",
    "    x2 = torch.min(box1_x2, box2_x2)\n",
    "    y2 = torch.min(box1_y2, box2_y2)\n",
    "\n",
    "    # Need clamp(0) in case they do not intersect, then we want intersection to be 0\n",
    "    intersection = (x2 - x1).clamp(0) * (y2 - y1).clamp(0)\n",
    "    box1_area = abs((box1_x2 - box1_x1) * (box1_y2 - box1_y1))\n",
    "    box2_area = abs((box2_x2 - box2_x1) * (box2_y2 - box2_y1))\n",
    "\n",
    "    return intersection / (box1_area + box2_area - intersection + 1e-6)\n",
    "\n",
    "import torch\n",
    "from collections import Counter\n",
    "\n",
    "def mean_average_precision(\n",
    "    pred_boxes, true_boxes, iou_threshold=0.5, box_format=\"midpoint\", num_classes=20\n",
    "):\n",
    "    \"\"\"\n",
    "    Calculates mean average precision \n",
    "\n",
    "    Parameters:\n",
    "        pred_boxes (list): list of lists containing all bboxes with each bboxes\n",
    "        specified as [train_idx, class_prediction, prob_score, x1, y1, x2, y2]\n",
    "        true_boxes (list): Similar as pred_boxes except all the correct ones \n",
    "        iou_threshold (float): threshold where predicted bboxes is correct\n",
    "        box_format (str): \"midpoint\" or \"corners\" used to specify bboxes\n",
    "        num_classes (int): number of classes\n",
    "\n",
    "    Returns:\n",
    "        float: mAP value across all classes given a specific IoU threshold \n",
    "    \"\"\"\n",
    "\n",
    "    # list storing all AP for respective classes\n",
    "    average_precisions = []\n",
    "\n",
    "    # used for numerical stability later on\n",
    "    epsilon = 1e-6\n",
    "\n",
    "    for c in range(num_classes):\n",
    "        detections = []\n",
    "        ground_truths = []\n",
    "\n",
    "        # Go through all predictions and targets,\n",
    "        # and only add the ones that belong to the\n",
    "        # current class c\n",
    "        for detection in pred_boxes:\n",
    "            if detection[1] == c:\n",
    "                detections.append(detection)\n",
    "\n",
    "        for true_box in true_boxes:\n",
    "            if true_box[1] == c:\n",
    "                ground_truths.append(true_box)\n",
    "\n",
    "        # find the amount of bboxes for each training example\n",
    "        # Counter here finds how many ground truth bboxes we get\n",
    "        # for each training example, so let's say img 0 has 3,\n",
    "        # img 1 has 5 then we will obtain a dictionary with:\n",
    "        # amount_bboxes = {0:3, 1:5}\n",
    "        amount_bboxes = Counter([gt[0] for gt in ground_truths])\n",
    "\n",
    "        # We then go through each key, val in this dictionary\n",
    "        # and convert to the following (w.r.t same example):\n",
    "        # ammount_bboxes = {0:torch.tensor[0,0,0], 1:torch.tensor[0,0,0,0,0]}\n",
    "        for key, val in amount_bboxes.items():\n",
    "            amount_bboxes[key] = torch.zeros(val)\n",
    "\n",
    "        # sort by box probabilities which is index 2\n",
    "        detections.sort(key=lambda x: x[2], reverse=True)\n",
    "        TP = torch.zeros((len(detections)))\n",
    "        FP = torch.zeros((len(detections)))\n",
    "        total_true_bboxes = len(ground_truths)\n",
    "        \n",
    "        # If none exists for this class then we can safely skip\n",
    "        if total_true_bboxes == 0:\n",
    "            continue\n",
    "\n",
    "        for detection_idx, detection in enumerate(detections):\n",
    "            # Only take out the ground_truths that have the same\n",
    "            # training idx as detection\n",
    "            ground_truth_img = [\n",
    "                bbox for bbox in ground_truths if bbox[0] == detection[0]\n",
    "            ]\n",
    "\n",
    "            num_gts = len(ground_truth_img)\n",
    "            best_iou = 0\n",
    "\n",
    "            for idx, gt in enumerate(ground_truth_img):\n",
    "                iou = get_iou(\n",
    "                    torch.tensor(detection[3:]),\n",
    "                    torch.tensor(gt[3:]),\n",
    "#                     box_format=box_format,\n",
    "                )\n",
    "\n",
    "                if iou > best_iou:\n",
    "                    best_iou = iou\n",
    "                    best_gt_idx = idx\n",
    "\n",
    "            if best_iou > iou_threshold:\n",
    "                # only detect ground truth detection once\n",
    "                if amount_bboxes[detection[0]][best_gt_idx] == 0:\n",
    "                    # true positive and add this bounding box to seen\n",
    "                    TP[detection_idx] = 1\n",
    "                    amount_bboxes[detection[0]][best_gt_idx] = 1\n",
    "                else:\n",
    "                    FP[detection_idx] = 1\n",
    "\n",
    "            # if IOU is lower then the detection is a false positive\n",
    "            else:\n",
    "                FP[detection_idx] = 1\n",
    "\n",
    "        TP_cumsum = torch.cumsum(TP, dim=0)\n",
    "        FP_cumsum = torch.cumsum(FP, dim=0)\n",
    "        recalls = TP_cumsum / (total_true_bboxes + epsilon)\n",
    "        precisions = TP_cumsum / (TP_cumsum + FP_cumsum + epsilon)\n",
    "        precisions = torch.cat((torch.tensor([1]), precisions))\n",
    "        recalls = torch.cat((torch.tensor([0]), recalls))\n",
    "        # torch.trapz for numerical integration\n",
    "        average_precisions.append(torch.trapz(precisions, recalls))\n",
    "\n",
    "    return sum(average_precisions) / (len(average_precisions) + epsilon)\n",
    "\n",
    "def viz_gt_and_pred(model, img_root, img_name, conf_threshold=0.5, labelidxs=[0,21,23,24]):\n",
    "    filepath = os.path.join(img_root, img_name)\n",
    "    img = cv2.imread(filepath)\n",
    "    img = cv2.cvtColor(img, cv2.COLOR_BGR2RGB)\n",
    "    \n",
    "    # get ground truth bboxes\n",
    "    gt = get_gt(img_name)\n",
    "    for gti in gt:\n",
    "        gt_bbox, category = gti\n",
    "        if category-1 in labelidxs:\n",
    "            xmin, ymin, width, height = map(int, gt_bbox)\n",
    "            cv2.putText(img, labels[category-1], (xmin, ymin+10), cv2.FONT_HERSHEY_SIMPLEX, 0.5, (0,255,0), 2)\n",
    "            cv2.rectangle(img, (xmin, ymin), (xmin+width, ymin+height), (0, 255, 0), 1)\n",
    "        \n",
    "    # get predictions\n",
    "    boxes, scores, classes, num_detections = get_prediction(model, img_root, img_name)\n",
    "    for i, score in enumerate(scores[0]):\n",
    "        if score > conf_threshold:\n",
    "            index = i\n",
    "            labelindex = int(classes[0][index].numpy()) - 1\n",
    "            if labelindex in labelidxs:\n",
    "                ymin, xmin, ymax, xmax = map(int, boxes[0][index].numpy())\n",
    "                cv2.putText(img, labels[labelindex], (xmin, ymin-10), cv2.FONT_HERSHEY_SIMPLEX, 0.5, (255,0,0), 2)\n",
    "                cvrect = cv2.rectangle(img, (xmin, ymin), (xmax, ymax), (255,0,0), 1)\n",
    "    \n",
    "    plt.figure(figsize=(10,7))\n",
    "    plt.imshow(img)\n",
    "    plt.show()"
   ]
  },
  {
   "cell_type": "code",
   "execution_count": 57,
   "id": "1a14d751",
   "metadata": {},
   "outputs": [],
   "source": [
    "labelidxs=[0,21,23,24]\n",
    "model = model = hub.KerasLayer(\"https://tfhub.dev/tensorflow/efficientdet/lite0/detection/1\")\n",
    "img_root = '../my_custom_dataset/images/'\n",
    "num_classes = len(labels)"
   ]
  },
  {
   "cell_type": "code",
   "execution_count": 78,
   "id": "4af01ea0",
   "metadata": {},
   "outputs": [],
   "source": [
    "images = os.listdir(img_root)"
   ]
  },
  {
   "cell_type": "code",
   "execution_count": 79,
   "id": "8b162b20",
   "metadata": {},
   "outputs": [
    {
     "data": {
      "text/plain": [
       "2910"
      ]
     },
     "execution_count": 79,
     "metadata": {},
     "output_type": "execute_result"
    }
   ],
   "source": [
    "len(images)"
   ]
  },
  {
   "cell_type": "code",
   "execution_count": 80,
   "id": "daa8d90b",
   "metadata": {},
   "outputs": [
    {
     "data": {
      "text/plain": [
       "('.gitignore', '000000000139.jpg', '000000000785.jpg', '000000000885.jpg')"
      ]
     },
     "execution_count": 80,
     "metadata": {},
     "output_type": "execute_result"
    }
   ],
   "source": [
    "images[0], images[1], images[2], images[4]"
   ]
  },
  {
   "cell_type": "code",
   "execution_count": 82,
   "id": "3ba94c6e",
   "metadata": {},
   "outputs": [
    {
     "ename": "ValueError",
     "evalue": "Exception encountered when calling layer \"keras_layer_1\" (type KerasLayer).\n\nCould not find matching concrete function to call loaded from the SavedModel. Got:\n  Positional arguments (1 total):\n    * <tf.Tensor 'imgs:0' shape=(1, 390, 640) dtype=uint8>\n  Keyword arguments: {}\n\n Expected these arguments to match one of the following 1 option(s):\n\nOption 1:\n  Positional arguments (1 total):\n    * TensorSpec(shape=(None, None, None, 3), dtype=tf.uint8, name='images')\n  Keyword arguments: {}\n\nCall arguments received by layer \"keras_layer_1\" (type KerasLayer):\n  • inputs=tf.Tensor(shape=(1, 390, 640), dtype=uint8)\n  • training=None",
     "output_type": "error",
     "traceback": [
      "\u001b[1;31m---------------------------------------------------------------------------\u001b[0m",
      "\u001b[1;31mValueError\u001b[0m                                Traceback (most recent call last)",
      "Input \u001b[1;32mIn [82]\u001b[0m, in \u001b[0;36m<cell line: 3>\u001b[1;34m()\u001b[0m\n\u001b[0;32m      2\u001b[0m preds \u001b[38;5;241m=\u001b[39m []\n\u001b[0;32m      3\u001b[0m \u001b[38;5;28;01mfor\u001b[39;00m i,image \u001b[38;5;129;01min\u001b[39;00m \u001b[38;5;28menumerate\u001b[39m(images[\u001b[38;5;241m1\u001b[39m:]): \u001b[38;5;66;03m# the first file is a .gitignore\u001b[39;00m\n\u001b[1;32m----> 4\u001b[0m     gt, pred \u001b[38;5;241m=\u001b[39m \u001b[43mget_gtruths_preds_frmtd\u001b[49m\u001b[43m(\u001b[49m\u001b[43mmodel\u001b[49m\u001b[43m,\u001b[49m\u001b[43m \u001b[49m\u001b[43mimg_root\u001b[49m\u001b[43m,\u001b[49m\u001b[43m \u001b[49m\u001b[43mimage\u001b[49m\u001b[43m,\u001b[49m\u001b[43m \u001b[49m\u001b[43mi\u001b[49m\u001b[38;5;241;43m+\u001b[39;49m\u001b[38;5;241;43m1\u001b[39;49m\u001b[43m,\u001b[49m\u001b[43m \u001b[49m\u001b[43mconf_threshold\u001b[49m\u001b[43m,\u001b[49m\u001b[43m \u001b[49m\u001b[43mlabelidxs\u001b[49m\u001b[43m)\u001b[49m\n\u001b[0;32m      5\u001b[0m     gtruths\u001b[38;5;241m.\u001b[39mappend(gt[\u001b[38;5;241m0\u001b[39m])\n\u001b[0;32m      6\u001b[0m     \u001b[38;5;28;01mif\u001b[39;00m \u001b[38;5;28mlen\u001b[39m(pred) \u001b[38;5;241m!=\u001b[39m \u001b[38;5;241m0\u001b[39m:\n",
      "Input \u001b[1;32mIn [56]\u001b[0m, in \u001b[0;36mget_gtruths_preds_frmtd\u001b[1;34m(model, img_root, img_name, img_index, conf_thresh, labelidxs)\u001b[0m\n\u001b[0;32m     28\u001b[0m gt \u001b[38;5;241m=\u001b[39m get_gt(img_name)\n\u001b[0;32m     30\u001b[0m \u001b[38;5;66;03m# get predictions\u001b[39;00m\n\u001b[1;32m---> 31\u001b[0m boxes, scores, classes, num_detections \u001b[38;5;241m=\u001b[39m \u001b[43mget_prediction\u001b[49m\u001b[43m(\u001b[49m\u001b[43mmodel\u001b[49m\u001b[43m,\u001b[49m\u001b[43m \u001b[49m\u001b[43mimg_root\u001b[49m\u001b[43m,\u001b[49m\u001b[43m \u001b[49m\u001b[43mimg_name\u001b[49m\u001b[43m)\u001b[49m\n\u001b[0;32m     33\u001b[0m \u001b[38;5;66;03m# convert the bboxes to the format xmin, ymin, xmax, ymax\u001b[39;00m\n\u001b[0;32m     34\u001b[0m preds \u001b[38;5;241m=\u001b[39m []\n",
      "Input \u001b[1;32mIn [56]\u001b[0m, in \u001b[0;36mget_prediction\u001b[1;34m(model, img_root, img_name)\u001b[0m\n\u001b[0;32m      4\u001b[0m imagetensor \u001b[38;5;241m=\u001b[39m tf\u001b[38;5;241m.\u001b[39mconvert_to_tensor(image, dtype\u001b[38;5;241m=\u001b[39mtf\u001b[38;5;241m.\u001b[39muint8, dtype_hint\u001b[38;5;241m=\u001b[39m\u001b[38;5;28;01mNone\u001b[39;00m, name\u001b[38;5;241m=\u001b[39m\u001b[38;5;28;01mNone\u001b[39;00m)\n\u001b[0;32m      5\u001b[0m imagetensor_reshaped \u001b[38;5;241m=\u001b[39m tf\u001b[38;5;241m.\u001b[39mexpand_dims(imagetensor, axis\u001b[38;5;241m=\u001b[39m\u001b[38;5;241m0\u001b[39m, name\u001b[38;5;241m=\u001b[39m\u001b[38;5;28;01mNone\u001b[39;00m)\n\u001b[1;32m----> 6\u001b[0m boxes, scores, classes, num_detections \u001b[38;5;241m=\u001b[39m \u001b[43mmodel\u001b[49m\u001b[43m(\u001b[49m\u001b[43mimagetensor_reshaped\u001b[49m\u001b[43m)\u001b[49m\n\u001b[0;32m      7\u001b[0m \u001b[38;5;28;01mreturn\u001b[39;00m boxes, scores, classes, num_detections\n",
      "File \u001b[1;32m~\\Anaconda3\\envs\\myenv\\lib\\site-packages\\keras\\utils\\traceback_utils.py:67\u001b[0m, in \u001b[0;36mfilter_traceback.<locals>.error_handler\u001b[1;34m(*args, **kwargs)\u001b[0m\n\u001b[0;32m     65\u001b[0m \u001b[38;5;28;01mexcept\u001b[39;00m \u001b[38;5;167;01mException\u001b[39;00m \u001b[38;5;28;01mas\u001b[39;00m e:  \u001b[38;5;66;03m# pylint: disable=broad-except\u001b[39;00m\n\u001b[0;32m     66\u001b[0m   filtered_tb \u001b[38;5;241m=\u001b[39m _process_traceback_frames(e\u001b[38;5;241m.\u001b[39m__traceback__)\n\u001b[1;32m---> 67\u001b[0m   \u001b[38;5;28;01mraise\u001b[39;00m e\u001b[38;5;241m.\u001b[39mwith_traceback(filtered_tb) \u001b[38;5;28;01mfrom\u001b[39;00m \u001b[38;5;28mNone\u001b[39m\n\u001b[0;32m     68\u001b[0m \u001b[38;5;28;01mfinally\u001b[39;00m:\n\u001b[0;32m     69\u001b[0m   \u001b[38;5;28;01mdel\u001b[39;00m filtered_tb\n",
      "File \u001b[1;32m~\\Anaconda3\\envs\\myenv\\lib\\site-packages\\tensorflow_hub\\keras_layer.py:229\u001b[0m, in \u001b[0;36mKerasLayer.call\u001b[1;34m(self, inputs, training)\u001b[0m\n\u001b[0;32m    223\u001b[0m \u001b[38;5;66;03m# ...but we may also have to pass a Python boolean for `training`, which\u001b[39;00m\n\u001b[0;32m    224\u001b[0m \u001b[38;5;66;03m# is the logical \"and\" of this layer's trainability and what the surrounding\u001b[39;00m\n\u001b[0;32m    225\u001b[0m \u001b[38;5;66;03m# model is doing (analogous to tf.keras.layers.BatchNormalization in TF2).\u001b[39;00m\n\u001b[0;32m    226\u001b[0m \u001b[38;5;66;03m# For the latter, we have to look in two places: the `training` argument,\u001b[39;00m\n\u001b[0;32m    227\u001b[0m \u001b[38;5;66;03m# or else Keras' global `learning_phase`, which might actually be a tensor.\u001b[39;00m\n\u001b[0;32m    228\u001b[0m \u001b[38;5;28;01mif\u001b[39;00m \u001b[38;5;129;01mnot\u001b[39;00m \u001b[38;5;28mself\u001b[39m\u001b[38;5;241m.\u001b[39m_has_training_argument:\n\u001b[1;32m--> 229\u001b[0m   result \u001b[38;5;241m=\u001b[39m \u001b[43mf\u001b[49m\u001b[43m(\u001b[49m\u001b[43m)\u001b[49m\n\u001b[0;32m    230\u001b[0m \u001b[38;5;28;01melse\u001b[39;00m:\n\u001b[0;32m    231\u001b[0m   \u001b[38;5;28;01mif\u001b[39;00m \u001b[38;5;28mself\u001b[39m\u001b[38;5;241m.\u001b[39mtrainable:\n",
      "\u001b[1;31mValueError\u001b[0m: Exception encountered when calling layer \"keras_layer_1\" (type KerasLayer).\n\nCould not find matching concrete function to call loaded from the SavedModel. Got:\n  Positional arguments (1 total):\n    * <tf.Tensor 'imgs:0' shape=(1, 390, 640) dtype=uint8>\n  Keyword arguments: {}\n\n Expected these arguments to match one of the following 1 option(s):\n\nOption 1:\n  Positional arguments (1 total):\n    * TensorSpec(shape=(None, None, None, 3), dtype=tf.uint8, name='images')\n  Keyword arguments: {}\n\nCall arguments received by layer \"keras_layer_1\" (type KerasLayer):\n  • inputs=tf.Tensor(shape=(1, 390, 640), dtype=uint8)\n  • training=None"
     ]
    }
   ],
   "source": [
    "gtruths = []\n",
    "preds = []\n",
    "for i,image in enumerate(images[1:]): # the first file is a .gitignore\n",
    "    gt, pred = get_gtruths_preds_frmtd(model, img_root, image, i+1, conf_threshold, labelidxs)\n",
    "    gtruths.append(gt[0])\n",
    "    if len(pred) != 0:\n",
    "        preds.append(pred[0])"
   ]
  },
  {
   "cell_type": "code",
   "execution_count": 83,
   "id": "4b684c92",
   "metadata": {},
   "outputs": [
    {
     "data": {
      "text/plain": [
       "(134, 114)"
      ]
     },
     "execution_count": 83,
     "metadata": {},
     "output_type": "execute_result"
    }
   ],
   "source": [
    "len(gtruths), len(preds)"
   ]
  },
  {
   "cell_type": "code",
   "execution_count": 84,
   "id": "6a898a17",
   "metadata": {},
   "outputs": [
    {
     "data": {
      "text/plain": [
       "[134, 1, 1, 1.91, 32.47, 611.6999999999999, 419.27]"
      ]
     },
     "execution_count": 84,
     "metadata": {},
     "output_type": "execute_result"
    }
   ],
   "source": [
    "gtruths[-1]"
   ]
  },
  {
   "cell_type": "code",
   "execution_count": 85,
   "id": "f14ada20",
   "metadata": {},
   "outputs": [
    {
     "data": {
      "text/plain": [
       "'000000023899.jpg'"
      ]
     },
     "execution_count": 85,
     "metadata": {},
     "output_type": "execute_result"
    }
   ],
   "source": [
    "images[134]"
   ]
  },
  {
   "cell_type": "code",
   "execution_count": null,
   "id": "a6769f34",
   "metadata": {},
   "outputs": [],
   "source": [
    "mean_avg_prec = mean_average_precision(preds, gtruths, iou_threshold, box_format='corner', num_classes=num_classes)\n",
    "print(f'mAP={mean_avg_prec:.4f} @iou_threshold={iou_threshold}')\n",
    "\n",
    "# viz_gt_and_pred(model, img_root, img_name, 0.5)"
   ]
  },
  {
   "cell_type": "code",
   "execution_count": null,
   "id": "fe5479d6",
   "metadata": {},
   "outputs": [],
   "source": []
  }
 ],
 "metadata": {
  "kernelspec": {
   "display_name": "myenv",
   "language": "python",
   "name": "myenv"
  },
  "language_info": {
   "codemirror_mode": {
    "name": "ipython",
    "version": 3
   },
   "file_extension": ".py",
   "mimetype": "text/x-python",
   "name": "python",
   "nbconvert_exporter": "python",
   "pygments_lexer": "ipython3",
   "version": "3.9.12"
  }
 },
 "nbformat": 4,
 "nbformat_minor": 5
}
