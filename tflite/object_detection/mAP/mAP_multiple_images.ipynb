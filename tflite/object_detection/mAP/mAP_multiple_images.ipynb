{
 "cells": [
  {
   "cell_type": "markdown",
   "id": "3a2fc791",
   "metadata": {},
   "source": [
    "### in this notebook we'll run inference and calculate mAP for multiple images"
   ]
  },
  {
   "cell_type": "code",
   "execution_count": 1,
   "id": "5280e09f",
   "metadata": {},
   "outputs": [],
   "source": [
    "import sys\n",
    "import json\n",
    "import os\n",
    "from urllib.request import ProxyBasicAuthHandler\n",
    "import cv2\n",
    "import matplotlib.pyplot as plt\n",
    "import tensorflow_hub as hub\n",
    "from PIL import Image\n",
    "import tensorflow as tf\n",
    "import numpy as np\n",
    "from tqdm import tqdm"
   ]
  },
  {
   "cell_type": "code",
   "execution_count": 2,
   "id": "0a0bfac3",
   "metadata": {},
   "outputs": [],
   "source": [
    "ANNOTATIONS = '../my_custom_dataset/annotations/coco_annotation.json'\n",
    "labels = ['person','bicycle','car','motorcycle','airplane','bus','train','truck','boat','traffic light','fire hydrant','street sign','stop sign','parking meter','bench','bird','cat','dog','horse','sheep','cow','elephant','bear','zebra','giraffe','hat','backpack','umbrella','shoe','eye glasses','handbag','tie','suitcase','frisbee','skis','snowboard','sports ball','kite','baseball bat','baseball glove','skateboard','surfboard','tennis racket','bottle','plate','wine glass','cup','fork','knife','spoon','bowl','banana','apple','sandwich','orange','broccoli','carrot','hot dog','pizza','donut','cake','chair','couch','potted plant','bed','mirror','dining table','window','desk','toilet','door','tv','laptop','mouse','remote','keyboard','cell phone','microwave','oven','toaster','sink','refrigerator','blender','book','clock','vase','scissors','teddy bear','hair drier','toothbrush','hair brush']\n",
    "\n",
    "with open(ANNOTATIONS, 'r') as f:\n",
    "    data = json.load(f)"
   ]
  },
  {
   "cell_type": "code",
   "execution_count": 3,
   "id": "3524c5e5",
   "metadata": {},
   "outputs": [],
   "source": [
    "def get_prediction(model, img_root, img_name):\n",
    "    filepath = os.path.join(img_root, img_name)\n",
    "    image = Image.open(filepath)\n",
    "    imagetensor = tf.convert_to_tensor(image, dtype=tf.uint8, dtype_hint=None, name=None)\n",
    "    if len(imagetensor.shape) == 2:\n",
    "        imagetensor = tf.image.grayscale_to_rgb(tf.expand_dims(imagetensor, axis=-1, name=None))\n",
    "    imagetensor_reshaped = tf.expand_dims(imagetensor, axis=0, name=None)\n",
    "    boxes, scores, classes, num_detections = model(imagetensor_reshaped)\n",
    "    return boxes, scores, classes, num_detections\n",
    "\n",
    "def get_gt(img_name):\n",
    "    img_id = int(img_name.replace('.jpg',''))\n",
    "    annotations = data['annotations']\n",
    "    gt = []\n",
    "    for annot in annotations:\n",
    "        if annot['image_id'] == img_id:\n",
    "            gt.append([annot['bbox'], annot['category_id']])\n",
    "    return gt\n",
    "\n",
    "def get_gtruths_preds_frmtd(model, img_root, img_name, img_index=1, conf_thresh=0.5, labelidxs=[0,21,23,24]):\n",
    "    '''\n",
    "    given an input image, get the gtruths, predictions and return the bboxes for both\n",
    "    returned bboxes are in the format xmin, ymin, xmax, ymax\n",
    "    '''\n",
    "    filepath = os.path.join(img_root, img_name)\n",
    "    img = cv2.imread(filepath)\n",
    "    img = cv2.cvtColor(img, cv2.COLOR_BGR2RGB)\n",
    "\n",
    "    # get ground truth bboxes\n",
    "    gt = get_gt(img_name)\n",
    "\n",
    "    # get predictions\n",
    "    boxes, scores, classes, num_detections = get_prediction(model, img_root, img_name)\n",
    "    \n",
    "    # convert the bboxes to the format xmin, ymin, xmax, ymax\n",
    "    preds = []\n",
    "    conf_thresh = 0.5\n",
    "    for box, cls, score in zip(boxes[0], classes[0], scores[0]):\n",
    "        if score > conf_thresh and int(cls.numpy())-1 in labelidxs:\n",
    "            ymin, xmin, ymax, xmax = box.numpy()\n",
    "            preds.append([img_index, int(cls.numpy()), score.numpy(), xmin, ymin, xmax, ymax])\n",
    "\n",
    "    gtruths = []\n",
    "    for gti in gt:\n",
    "        xmin, ymin, width, height = gti[0]\n",
    "        cls = gti[1]\n",
    "        if cls-1 in labelidxs:\n",
    "            gtruths.append([img_index, cls, 1, xmin, ymin, xmin+width, ymin+height])\n",
    "    \n",
    "    return gtruths, preds\n",
    "\n",
    "def get_iou(boxes_preds, boxes_labels, box_format=\"midpoint\"):\n",
    "    \"\"\"\n",
    "    Calculates intersection over union\n",
    "\n",
    "    Parameters:\n",
    "        boxes_preds (tensor): Predictions of Bounding Boxes (BATCH_SIZE, 4)\n",
    "        boxes_labels (tensor): Correct Labels of Boxes (BATCH_SIZE, 4)\n",
    "        box_format (str): midpoint/corners, if boxes (x,y,w,h) or (x1,y1,x2,y2)\n",
    "\n",
    "    Returns:\n",
    "        tensor: Intersection over union for all examples\n",
    "    \"\"\"\n",
    "\n",
    "    # Slicing idx:idx+1 in order to keep tensor dimensionality\n",
    "    # Doing ... in indexing if there would be additional dimensions\n",
    "    # Like for Yolo algorithm which would have (N, S, S, 4) in shape\n",
    "    if box_format == \"midpoint\":\n",
    "        box1_x1 = boxes_preds[..., 0:1] - boxes_preds[..., 2:3] / 2\n",
    "        box1_y1 = boxes_preds[..., 1:2] - boxes_preds[..., 3:4] / 2\n",
    "        box1_x2 = boxes_preds[..., 0:1] + boxes_preds[..., 2:3] / 2\n",
    "        box1_y2 = boxes_preds[..., 1:2] + boxes_preds[..., 3:4] / 2\n",
    "        box2_x1 = boxes_labels[..., 0:1] - boxes_labels[..., 2:3] / 2\n",
    "        box2_y1 = boxes_labels[..., 1:2] - boxes_labels[..., 3:4] / 2\n",
    "        box2_x2 = boxes_labels[..., 0:1] + boxes_labels[..., 2:3] / 2\n",
    "        box2_y2 = boxes_labels[..., 1:2] + boxes_labels[..., 3:4] / 2\n",
    "\n",
    "    elif box_format == \"corners\":\n",
    "        box1_x1 = boxes_preds[..., 0:1]\n",
    "        box1_y1 = boxes_preds[..., 1:2]\n",
    "        box1_x2 = boxes_preds[..., 2:3]\n",
    "        box1_y2 = boxes_preds[..., 3:4]\n",
    "        box2_x1 = boxes_labels[..., 0:1]\n",
    "        box2_y1 = boxes_labels[..., 1:2]\n",
    "        box2_x2 = boxes_labels[..., 2:3]\n",
    "        box2_y2 = boxes_labels[..., 3:4]\n",
    "\n",
    "    x1 = torch.max(box1_x1, box2_x1)\n",
    "    y1 = torch.max(box1_y1, box2_y1)\n",
    "    x2 = torch.min(box1_x2, box2_x2)\n",
    "    y2 = torch.min(box1_y2, box2_y2)\n",
    "\n",
    "    # Need clamp(0) in case they do not intersect, then we want intersection to be 0\n",
    "    intersection = (x2 - x1).clamp(0) * (y2 - y1).clamp(0)\n",
    "    box1_area = abs((box1_x2 - box1_x1) * (box1_y2 - box1_y1))\n",
    "    box2_area = abs((box2_x2 - box2_x1) * (box2_y2 - box2_y1))\n",
    "\n",
    "    return intersection / (box1_area + box2_area - intersection + 1e-6)\n",
    "\n",
    "import torch\n",
    "from collections import Counter\n",
    "\n",
    "def mean_average_precision(\n",
    "    pred_boxes, true_boxes, iou_threshold=0.5, box_format=\"midpoint\", num_classes=20\n",
    "):\n",
    "    \"\"\"\n",
    "    Calculates mean average precision \n",
    "\n",
    "    Parameters:\n",
    "        pred_boxes (list): list of lists containing all bboxes with each bboxes\n",
    "        specified as [train_idx, class_prediction, prob_score, x1, y1, x2, y2]\n",
    "        true_boxes (list): Similar as pred_boxes except all the correct ones \n",
    "        iou_threshold (float): threshold where predicted bboxes is correct\n",
    "        box_format (str): \"midpoint\" or \"corners\" used to specify bboxes\n",
    "        num_classes (int): number of classes\n",
    "\n",
    "    Returns:\n",
    "        float: mAP value across all classes given a specific IoU threshold \n",
    "    \"\"\"\n",
    "\n",
    "    # list storing all AP for respective classes\n",
    "    average_precisions = []\n",
    "\n",
    "    # used for numerical stability later on\n",
    "    epsilon = 1e-6\n",
    "\n",
    "    for c in range(num_classes):\n",
    "        detections = []\n",
    "        ground_truths = []\n",
    "\n",
    "        # Go through all predictions and targets,\n",
    "        # and only add the ones that belong to the\n",
    "        # current class c\n",
    "        for detection in pred_boxes:\n",
    "            if detection[1] == c:\n",
    "                detections.append(detection)\n",
    "\n",
    "        for true_box in true_boxes:\n",
    "            if true_box[1] == c:\n",
    "                ground_truths.append(true_box)\n",
    "\n",
    "        # find the amount of bboxes for each training example\n",
    "        # Counter here finds how many ground truth bboxes we get\n",
    "        # for each training example, so let's say img 0 has 3,\n",
    "        # img 1 has 5 then we will obtain a dictionary with:\n",
    "        # amount_bboxes = {0:3, 1:5}\n",
    "        amount_bboxes = Counter([gt[0] for gt in ground_truths])\n",
    "\n",
    "        # We then go through each key, val in this dictionary\n",
    "        # and convert to the following (w.r.t same example):\n",
    "        # ammount_bboxes = {0:torch.tensor[0,0,0], 1:torch.tensor[0,0,0,0,0]}\n",
    "        for key, val in amount_bboxes.items():\n",
    "            amount_bboxes[key] = torch.zeros(val)\n",
    "\n",
    "        # sort by box probabilities which is index 2\n",
    "        detections.sort(key=lambda x: x[2], reverse=True)\n",
    "        TP = torch.zeros((len(detections)))\n",
    "        FP = torch.zeros((len(detections)))\n",
    "        total_true_bboxes = len(ground_truths)\n",
    "        \n",
    "        # If none exists for this class then we can safely skip\n",
    "        if total_true_bboxes == 0:\n",
    "            continue\n",
    "\n",
    "        for detection_idx, detection in enumerate(detections):\n",
    "            # Only take out the ground_truths that have the same\n",
    "            # training idx as detection\n",
    "            ground_truth_img = [\n",
    "                bbox for bbox in ground_truths if bbox[0] == detection[0]\n",
    "            ]\n",
    "\n",
    "            num_gts = len(ground_truth_img)\n",
    "            best_iou = 0\n",
    "\n",
    "            for idx, gt in enumerate(ground_truth_img):\n",
    "                iou = get_iou(\n",
    "                    torch.tensor(detection[3:]),\n",
    "                    torch.tensor(gt[3:]),\n",
    "#                     box_format=box_format,\n",
    "                )\n",
    "\n",
    "                if iou > best_iou:\n",
    "                    best_iou = iou\n",
    "                    best_gt_idx = idx\n",
    "\n",
    "            if best_iou > iou_threshold:\n",
    "                # only detect ground truth detection once\n",
    "                if amount_bboxes[detection[0]][best_gt_idx] == 0:\n",
    "                    # true positive and add this bounding box to seen\n",
    "                    TP[detection_idx] = 1\n",
    "                    amount_bboxes[detection[0]][best_gt_idx] = 1\n",
    "                else:\n",
    "                    FP[detection_idx] = 1\n",
    "\n",
    "            # if IOU is lower then the detection is a false positive\n",
    "            else:\n",
    "                FP[detection_idx] = 1\n",
    "\n",
    "        TP_cumsum = torch.cumsum(TP, dim=0)\n",
    "        FP_cumsum = torch.cumsum(FP, dim=0)\n",
    "        recalls = TP_cumsum / (total_true_bboxes + epsilon)\n",
    "        precisions = TP_cumsum / (TP_cumsum + FP_cumsum + epsilon)\n",
    "        precisions = torch.cat((torch.tensor([1]), precisions))\n",
    "        recalls = torch.cat((torch.tensor([0]), recalls))\n",
    "        # torch.trapz for numerical integration\n",
    "        average_precisions.append(torch.trapz(precisions, recalls))\n",
    "\n",
    "    return sum(average_precisions) / (len(average_precisions) + epsilon)\n",
    "\n",
    "def viz_gt_and_pred(model, img_root, img_name, conf_threshold=0.5, labelidxs=[0,21,23,24]):\n",
    "    filepath = os.path.join(img_root, img_name)\n",
    "    img = cv2.imread(filepath)\n",
    "    img = cv2.cvtColor(img, cv2.COLOR_BGR2RGB)\n",
    "    \n",
    "    # get ground truth bboxes\n",
    "    gt = get_gt(img_name)\n",
    "    for gti in gt:\n",
    "        gt_bbox, category = gti\n",
    "        if category-1 in labelidxs:\n",
    "            xmin, ymin, width, height = map(int, gt_bbox)\n",
    "            cv2.putText(img, labels[category-1], (xmin, ymin+10), cv2.FONT_HERSHEY_SIMPLEX, 0.5, (0,255,0), 2)\n",
    "            cv2.rectangle(img, (xmin, ymin), (xmin+width, ymin+height), (0, 255, 0), 1)\n",
    "        \n",
    "    # get predictions\n",
    "    boxes, scores, classes, num_detections = get_prediction(model, img_root, img_name)\n",
    "    for i, score in enumerate(scores[0]):\n",
    "        if score > conf_threshold:\n",
    "            index = i\n",
    "            labelindex = int(classes[0][index].numpy()) - 1\n",
    "            if labelindex in labelidxs:\n",
    "                ymin, xmin, ymax, xmax = map(int, boxes[0][index].numpy())\n",
    "                cv2.putText(img, labels[labelindex], (xmin, ymin-10), cv2.FONT_HERSHEY_SIMPLEX, 0.5, (255,0,0), 2)\n",
    "                cvrect = cv2.rectangle(img, (xmin, ymin), (xmax, ymax), (255,0,0), 1)\n",
    "    \n",
    "    plt.figure(figsize=(10,7))\n",
    "    plt.imshow(img)\n",
    "    plt.show()"
   ]
  },
  {
   "cell_type": "code",
   "execution_count": 11,
   "id": "e5b333a1",
   "metadata": {},
   "outputs": [],
   "source": [
    "labelidxs=[0,21,23,24]\n",
    "model = hub.KerasLayer(\"https://tfhub.dev/tensorflow/efficientdet/lite0/detection/1\")\n",
    "img_root = '../my_custom_dataset/images/'"
   ]
  },
  {
   "cell_type": "code",
   "execution_count": 12,
   "id": "a7cbd949",
   "metadata": {},
   "outputs": [],
   "source": [
    "images = os.listdir(img_root)"
   ]
  },
  {
   "cell_type": "code",
   "execution_count": 13,
   "id": "2fdaa8bd",
   "metadata": {},
   "outputs": [
    {
     "data": {
      "text/plain": [
       "2910"
      ]
     },
     "execution_count": 13,
     "metadata": {},
     "output_type": "execute_result"
    }
   ],
   "source": [
    "len(images)"
   ]
  },
  {
   "cell_type": "code",
   "execution_count": 14,
   "id": "796cba5f",
   "metadata": {},
   "outputs": [
    {
     "data": {
      "text/plain": [
       "('.gitignore', '000000000139.jpg', '000000000785.jpg', '000000000885.jpg')"
      ]
     },
     "execution_count": 14,
     "metadata": {},
     "output_type": "execute_result"
    }
   ],
   "source": [
    "images[0], images[1], images[2], images[4]"
   ]
  },
  {
   "cell_type": "code",
   "execution_count": 22,
   "id": "f400e3a3",
   "metadata": {},
   "outputs": [
    {
     "name": "stderr",
     "output_type": "stream",
     "text": [
      "100%|██████████████████████████████████████████████████████████████████████████████| 2909/2909 [41:31<00:00,  1.17it/s]\n"
     ]
    }
   ],
   "source": [
    "conf_threshold = 0.5\n",
    "iou_threshold = 0.7\n",
    "num_classes = len(labels)\n",
    "\n",
    "gtruths = []\n",
    "preds = []\n",
    "for i,image in enumerate(tqdm(images[1:])): # the first file is a .gitignore\n",
    "    gt, pred = get_gtruths_preds_frmtd(model, img_root, image, i+1, conf_threshold, labelidxs)\n",
    "    gtruths.append(gt[0])\n",
    "    if len(pred) != 0:\n",
    "        preds.append(pred[0])"
   ]
  },
  {
   "cell_type": "code",
   "execution_count": 23,
   "id": "611618bb",
   "metadata": {},
   "outputs": [
    {
     "data": {
      "text/plain": [
       "(2909, 2403)"
      ]
     },
     "execution_count": 23,
     "metadata": {},
     "output_type": "execute_result"
    }
   ],
   "source": [
    "len(gtruths), len(preds)"
   ]
  },
  {
   "cell_type": "code",
   "execution_count": 24,
   "id": "61f848d5",
   "metadata": {},
   "outputs": [
    {
     "name": "stdout",
     "output_type": "stream",
     "text": [
      "mAP=0.4445 @iou_threshold=0.7\n"
     ]
    }
   ],
   "source": [
    "mean_avg_prec = mean_average_precision(preds, gtruths, iou_threshold, box_format='corner', num_classes=num_classes)\n",
    "print(f'average precision={mean_avg_prec:.4f} @iou_threshold={iou_threshold}')"
   ]
  },
  {
   "cell_type": "code",
   "execution_count": 26,
   "id": "d96c8738",
   "metadata": {},
   "outputs": [
    {
     "data": {
      "text/plain": [
       "([[1, 1, 1, 412.8, 157.61, 465.85, 295.62],\n",
       "  [2, 1, 1, 280.79, 44.73, 499.49, 391.41],\n",
       "  [3, 1, 1, 145.26, 100.67, 437.21, 558.02],\n",
       "  [4, 1, 1, 277.31, 189.99, 417.4, 398.21000000000004],\n",
       "  [5, 1, 1, 115.16, 152.13, 198.39, 380.53999999999996]],\n",
       " [[2, 1, 0.89276665, 280.1706, 42.6196, 489.71295, 376.13818],\n",
       "  [3, 1, 0.87395513, 161.18785, 119.48299, 408.2954, 608.9476],\n",
       "  [4, 1, 0.86378217, 280.84772, 103.43826, 405.03345, 387.56943],\n",
       "  [5, 1, 0.73771036, 410.97095, 210.8132, 526.9672, 485.4943],\n",
       "  [6, 1, 0.68303263, 498.30005, 88.880646, 632.5265, 429.2618]])"
      ]
     },
     "execution_count": 26,
     "metadata": {},
     "output_type": "execute_result"
    }
   ],
   "source": [
    "gtruths[:5], preds[:5]"
   ]
  },
  {
   "cell_type": "markdown",
   "id": "899f01e2",
   "metadata": {},
   "source": [
    "### create a function that calculates the average precision for a given iou_threshold"
   ]
  },
  {
   "cell_type": "code",
   "execution_count": 4,
   "id": "f4d1d093",
   "metadata": {},
   "outputs": [],
   "source": [
    "def average_precision(conf_threshold=0.5,iou_threshold=0.7,image_startindex=0,image_stopindex=100):\n",
    "    gtruths = []\n",
    "    preds = []\n",
    "    for i,image in enumerate(tqdm(images[image_startindex:image_stopindex])): # the first file is a .gitignore\n",
    "        gt, pred = get_gtruths_preds_frmtd(model, img_root, image, i+1, conf_threshold, labelidxs)\n",
    "        gtruths.append(gt[0])\n",
    "        if len(pred) != 0:\n",
    "            preds.append(pred[0])\n",
    "    avg_prec = mean_average_precision(preds, gtruths, iou_threshold, box_format='corner', num_classes=num_classes)\n",
    "#     print(f'average precision={mean_avg_prec:.4f} @iou_threshold={iou_threshold}')\n",
    "    return avg_prec"
   ]
  },
  {
   "cell_type": "markdown",
   "id": "862ca642",
   "metadata": {},
   "source": [
    "#### test the function "
   ]
  },
  {
   "cell_type": "markdown",
   "id": "deca0b5a",
   "metadata": {},
   "source": [
    "we'll use only a few images for testing. in the for loop, images[1:20]"
   ]
  },
  {
   "cell_type": "code",
   "execution_count": 27,
   "id": "5e7d37ae",
   "metadata": {},
   "outputs": [],
   "source": [
    "labelidxs=[0,21,23,24]\n",
    "model = hub.KerasLayer(\"https://tfhub.dev/tensorflow/efficientdet/lite0/detection/1\")\n",
    "img_root = '../my_custom_dataset/images/'"
   ]
  },
  {
   "cell_type": "code",
   "execution_count": 31,
   "id": "437ed147",
   "metadata": {},
   "outputs": [],
   "source": [
    "conf_threshold = 0.5\n",
    "iou_threshold = 0.7\n",
    "num_classes = len(labels)\n",
    "images = os.listdir(img_root)\n",
    "image_startindex = 1\n",
    "image_stopindex = 20"
   ]
  },
  {
   "cell_type": "markdown",
   "id": "dd8eaed6",
   "metadata": {},
   "source": [
    "#### test the function with a few different iou_thresholds "
   ]
  },
  {
   "cell_type": "code",
   "execution_count": 33,
   "id": "e2193d55",
   "metadata": {},
   "outputs": [
    {
     "name": "stderr",
     "output_type": "stream",
     "text": [
      "100%|██████████████████████████████████████████████████████████████████████████████████| 19/19 [00:12<00:00,  1.51it/s]"
     ]
    },
    {
     "name": "stdout",
     "output_type": "stream",
     "text": [
      "average precision=0.6936 @iou_threshold=0.5\n"
     ]
    },
    {
     "name": "stderr",
     "output_type": "stream",
     "text": [
      "\n"
     ]
    }
   ],
   "source": [
    "iou_threshold = 0.5\n",
    "avg_prec = average_precision(conf_threshold, iou_threshold, image_startindex, image_stopindex)\n",
    "print(f'average precision={avg_prec:.4f} @iou_threshold={iou_threshold}')"
   ]
  },
  {
   "cell_type": "code",
   "execution_count": 34,
   "id": "a3a104fc",
   "metadata": {},
   "outputs": [
    {
     "name": "stderr",
     "output_type": "stream",
     "text": [
      "100%|██████████████████████████████████████████████████████████████████████████████████| 19/19 [00:12<00:00,  1.48it/s]"
     ]
    },
    {
     "name": "stdout",
     "output_type": "stream",
     "text": [
      "average precision=0.1782 @iou_threshold=0.6\n"
     ]
    },
    {
     "name": "stderr",
     "output_type": "stream",
     "text": [
      "\n"
     ]
    }
   ],
   "source": [
    "iou_threshold = 0.6\n",
    "avg_prec = average_precision(conf_threshold, iou_threshold, image_startindex, image_stopindex)\n",
    "print(f'average precision={avg_prec:.4f} @iou_threshold={iou_threshold}')"
   ]
  },
  {
   "cell_type": "code",
   "execution_count": 35,
   "id": "b579a04e",
   "metadata": {},
   "outputs": [
    {
     "name": "stderr",
     "output_type": "stream",
     "text": [
      "100%|██████████████████████████████████████████████████████████████████████████████████| 19/19 [00:13<00:00,  1.36it/s]"
     ]
    },
    {
     "name": "stdout",
     "output_type": "stream",
     "text": [
      "average precision=0.1375 @iou_threshold=0.7\n"
     ]
    },
    {
     "name": "stderr",
     "output_type": "stream",
     "text": [
      "\n"
     ]
    }
   ],
   "source": [
    "iou_threshold = 0.7\n",
    "avg_prec = average_precision(conf_threshold, iou_threshold, image_startindex, image_stopindex)\n",
    "print(f'average precision={avg_prec:.4f} @iou_threshold={iou_threshold}')"
   ]
  },
  {
   "cell_type": "code",
   "execution_count": 36,
   "id": "c61505e9",
   "metadata": {},
   "outputs": [
    {
     "name": "stderr",
     "output_type": "stream",
     "text": [
      "100%|██████████████████████████████████████████████████████████████████████████████████| 19/19 [00:13<00:00,  1.45it/s]"
     ]
    },
    {
     "name": "stdout",
     "output_type": "stream",
     "text": [
      "average precision=0.1375 @iou_threshold=0.8\n"
     ]
    },
    {
     "name": "stderr",
     "output_type": "stream",
     "text": [
      "\n"
     ]
    }
   ],
   "source": [
    "iou_threshold = 0.8\n",
    "avg_prec = average_precision(conf_threshold, iou_threshold, image_startindex, image_stopindex)\n",
    "print(f'average precision={avg_prec:.4f} @iou_threshold={iou_threshold}')"
   ]
  },
  {
   "cell_type": "code",
   "execution_count": 37,
   "id": "a3ffeea1",
   "metadata": {},
   "outputs": [
    {
     "name": "stderr",
     "output_type": "stream",
     "text": [
      "100%|██████████████████████████████████████████████████████████████████████████████████| 19/19 [00:12<00:00,  1.48it/s]"
     ]
    },
    {
     "name": "stdout",
     "output_type": "stream",
     "text": [
      "average precision=0.0968 @iou_threshold=0.9\n"
     ]
    },
    {
     "name": "stderr",
     "output_type": "stream",
     "text": [
      "\n"
     ]
    }
   ],
   "source": [
    "iou_threshold = 0.9\n",
    "avg_prec = average_precision(conf_threshold, iou_threshold, image_startindex, image_stopindex)\n",
    "print(f'average precision={avg_prec:.4f} @iou_threshold={iou_threshold}')"
   ]
  },
  {
   "cell_type": "markdown",
   "id": "5ec9cc45",
   "metadata": {},
   "source": [
    "### create a function to calculate the mAP"
   ]
  },
  {
   "cell_type": "code",
   "execution_count": 5,
   "id": "695ebc4b",
   "metadata": {},
   "outputs": [],
   "source": [
    "def get_map(conf_threshold=0.5, iou_thresh_start=0.5, iou_step=0.05, iou_thresh_stop=0.95, image_startindex=1, image_stopindex=20):\n",
    "    avg_prec_list = []\n",
    "    iou_thresholds = np.arange(iou_thresh_start, iou_thresh_stop+0.01, iou_step)\n",
    "    for iou_t in iou_thresholds:\n",
    "        avg_prec = average_precision(conf_threshold, iou_t, image_startindex, image_stopindex)\n",
    "        avg_prec_list.append(avg_prec)\n",
    "        print(f'avg_precision@iou_thresh:{iou_t:.2f} = {avg_prec}')\n",
    "    \n",
    "    return sum(avg_prec_list) / len(avg_prec_list)"
   ]
  },
  {
   "cell_type": "markdown",
   "id": "c1bf50de",
   "metadata": {},
   "source": [
    "#### test the function "
   ]
  },
  {
   "cell_type": "code",
   "execution_count": 6,
   "id": "e2152f44",
   "metadata": {},
   "outputs": [],
   "source": [
    "labelidxs=[0,21,23,24]\n",
    "model = hub.KerasLayer(\"https://tfhub.dev/tensorflow/efficientdet/lite0/detection/1\")\n",
    "img_root = '../my_custom_dataset/images/'"
   ]
  },
  {
   "cell_type": "code",
   "execution_count": 8,
   "id": "f18e053f",
   "metadata": {},
   "outputs": [],
   "source": [
    "num_classes = len(labels)\n",
    "images = os.listdir(img_root)\n",
    "\n",
    "conf_threshold=0.5\n",
    "iou_thresh_start=0.5\n",
    "iou_step=0.05\n",
    "iou_thresh_stop=0.95\n",
    "image_startindex=1\n",
    "image_stopindex=20"
   ]
  },
  {
   "cell_type": "code",
   "execution_count": 9,
   "id": "196e19a0",
   "metadata": {},
   "outputs": [
    {
     "name": "stderr",
     "output_type": "stream",
     "text": [
      "100%|██████████████████████████████████████████████████████████████████████████████████| 19/19 [00:27<00:00,  1.43s/it]\n"
     ]
    },
    {
     "name": "stdout",
     "output_type": "stream",
     "text": [
      "avg_precision@iou_thresh:0.50 = 0.6936216354370117\n"
     ]
    },
    {
     "name": "stderr",
     "output_type": "stream",
     "text": [
      "100%|██████████████████████████████████████████████████████████████████████████████████| 19/19 [00:03<00:00,  5.46it/s]\n"
     ]
    },
    {
     "name": "stdout",
     "output_type": "stream",
     "text": [
      "avg_precision@iou_thresh:0.55 = 0.6782065629959106\n"
     ]
    },
    {
     "name": "stderr",
     "output_type": "stream",
     "text": [
      "100%|██████████████████████████████████████████████████████████████████████████████████| 19/19 [00:03<00:00,  4.87it/s]\n"
     ]
    },
    {
     "name": "stdout",
     "output_type": "stream",
     "text": [
      "avg_precision@iou_thresh:0.60 = 0.17820750176906586\n"
     ]
    },
    {
     "name": "stderr",
     "output_type": "stream",
     "text": [
      "100%|██████████████████████████████████████████████████████████████████████████████████| 19/19 [00:04<00:00,  4.46it/s]\n"
     ]
    },
    {
     "name": "stdout",
     "output_type": "stream",
     "text": [
      "avg_precision@iou_thresh:0.65 = 0.13752742111682892\n"
     ]
    },
    {
     "name": "stderr",
     "output_type": "stream",
     "text": [
      "100%|██████████████████████████████████████████████████████████████████████████████████| 19/19 [00:04<00:00,  4.44it/s]\n"
     ]
    },
    {
     "name": "stdout",
     "output_type": "stream",
     "text": [
      "avg_precision@iou_thresh:0.70 = 0.13752742111682892\n"
     ]
    },
    {
     "name": "stderr",
     "output_type": "stream",
     "text": [
      "100%|██████████████████████████████████████████████████████████████████████████████████| 19/19 [00:03<00:00,  4.84it/s]\n"
     ]
    },
    {
     "name": "stdout",
     "output_type": "stream",
     "text": [
      "avg_precision@iou_thresh:0.75 = 0.13752742111682892\n"
     ]
    },
    {
     "name": "stderr",
     "output_type": "stream",
     "text": [
      "100%|██████████████████████████████████████████████████████████████████████████████████| 19/19 [00:03<00:00,  5.33it/s]\n"
     ]
    },
    {
     "name": "stdout",
     "output_type": "stream",
     "text": [
      "avg_precision@iou_thresh:0.80 = 0.13752742111682892\n"
     ]
    },
    {
     "name": "stderr",
     "output_type": "stream",
     "text": [
      "100%|██████████████████████████████████████████████████████████████████████████████████| 19/19 [00:03<00:00,  4.97it/s]\n"
     ]
    },
    {
     "name": "stdout",
     "output_type": "stream",
     "text": [
      "avg_precision@iou_thresh:0.85 = 0.13752742111682892\n"
     ]
    },
    {
     "name": "stderr",
     "output_type": "stream",
     "text": [
      "100%|██████████████████████████████████████████████████████████████████████████████████| 19/19 [00:03<00:00,  5.26it/s]\n"
     ]
    },
    {
     "name": "stdout",
     "output_type": "stream",
     "text": [
      "avg_precision@iou_thresh:0.90 = 0.09684734791517258\n"
     ]
    },
    {
     "name": "stderr",
     "output_type": "stream",
     "text": [
      "100%|██████████████████████████████████████████████████████████████████████████████████| 19/19 [00:03<00:00,  4.93it/s]"
     ]
    },
    {
     "name": "stdout",
     "output_type": "stream",
     "text": [
      "avg_precision@iou_thresh:0.95 = 0.008234120905399323\n"
     ]
    },
    {
     "name": "stderr",
     "output_type": "stream",
     "text": [
      "\n"
     ]
    }
   ],
   "source": [
    "mean_avg_prec = get_map(conf_threshold, iou_thresh_start, iou_step, iou_thresh_stop, image_startindex, image_stopindex)"
   ]
  },
  {
   "cell_type": "code",
   "execution_count": 10,
   "id": "037861ac",
   "metadata": {},
   "outputs": [
    {
     "name": "stdout",
     "output_type": "stream",
     "text": [
      "mean average precision=0.2343@0.50:0.05:0.95, tested on 19 images\n"
     ]
    }
   ],
   "source": [
    "print(f'mean average precision={mean_avg_prec:.4f}@{iou_thresh_start:.2f}:{iou_step:.2f}:{iou_thresh_stop:.2f}, tested on {image_stopindex-image_startindex} images')"
   ]
  },
  {
   "cell_type": "code",
   "execution_count": 11,
   "id": "24978166",
   "metadata": {},
   "outputs": [
    {
     "data": {
      "text/plain": [
       "tensor(0.2343)"
      ]
     },
     "execution_count": 11,
     "metadata": {},
     "output_type": "execute_result"
    }
   ],
   "source": [
    "mean_avg_prec"
   ]
  },
  {
   "cell_type": "code",
   "execution_count": null,
   "id": "8ba1764c",
   "metadata": {},
   "outputs": [],
   "source": []
  }
 ],
 "metadata": {
  "kernelspec": {
   "display_name": "myenv",
   "language": "python",
   "name": "myenv"
  },
  "language_info": {
   "codemirror_mode": {
    "name": "ipython",
    "version": 3
   },
   "file_extension": ".py",
   "mimetype": "text/x-python",
   "name": "python",
   "nbconvert_exporter": "python",
   "pygments_lexer": "ipython3",
   "version": "3.9.12"
  }
 },
 "nbformat": 4,
 "nbformat_minor": 5
}
